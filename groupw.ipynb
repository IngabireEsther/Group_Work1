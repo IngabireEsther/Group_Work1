{
 "cells": [
  {
   "cell_type": "code",
   "execution_count": null,
   "id": "432d106c",
   "metadata": {},
   "outputs": [
    {
     "name": "stdout",
     "output_type": "stream",
     "text": [
      "Thank you\n",
      "Esther, your age is: 21.\n"
     ]
    }
   ],
   "source": [
    "#Question1\n",
    "#user input their name\n",
    "name = input(\"Please enter your name: \")\n",
    "#user input their age(eg.2000)\n",
    "year= input(\"Please enter your year of birth (e.g., 2000): \")\n",
    "\n",
    "#use fumction to calculate the user's age, assuming the current year is 2025\n",
    "def calculate_year_of_birth(year):\n",
    "    current_year = 2025\n",
    "    return current_year - int(year)\n",
    "#call the function and print the result\n",
    "year_of_birth = calculate_year_of_birth(year)\n",
    "print(\"Thank you\")\n",
    "print(f\"{name}, your age is: {year_of_birth}.\")\n"
   ]
  },
  {
   "cell_type": "code",
   "execution_count": 10,
   "id": "1d5b81b1",
   "metadata": {},
   "outputs": [
    {
     "name": "stdout",
     "output_type": "stream",
     "text": [
      "No, Hello sir is not a palindrome.\n"
     ]
    }
   ],
   "source": [
    "# a function that asks the user to input a string and checks if the string is palindrome\n",
    "def is_palindrome(s):\n",
    "    # Remove spaces and convert to lowercase\n",
    "    s = s.replace(\" \", \"\").lower()\n",
    "    # Check if the string is equal to its reverse\n",
    "    return s == s[::-1]\n",
    "# Ask the user for a string\n",
    "user_string = input(\"Please enter a string to check if it's a palindrome: \")\n",
    "# Check if the string is a palindrome and print the result\n",
    "if is_palindrome(user_string):\n",
    "    print(f'Yes  {user_string} is a palindrome.')\n",
    "else:\n",
    "    print(f'No, {user_string} is not a palindrome.')\n"
   ]
  }
 ],
 "metadata": {
  "kernelspec": {
   "display_name": "Python (base)",
   "language": "python",
   "name": "base"
  },
  "language_info": {
   "codemirror_mode": {
    "name": "ipython",
    "version": 3
   },
   "file_extension": ".py",
   "mimetype": "text/x-python",
   "name": "python",
   "nbconvert_exporter": "python",
   "pygments_lexer": "ipython3",
   "version": "3.12.7"
  }
 },
 "nbformat": 4,
 "nbformat_minor": 5
}
